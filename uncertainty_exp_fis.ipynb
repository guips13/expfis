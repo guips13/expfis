{
 "cells": [
  {
   "cell_type": "code",
   "execution_count": null,
   "metadata": {},
   "outputs": [],
   "source": [
    "import sympy as smp\n",
    "import numpy as np\n",
    "import matplotlib.pyplot as plt"
   ]
  },
  {
   "cell_type": "code",
   "execution_count": null,
   "metadata": {},
   "outputs": [],
   "source": [
    "numVar = 0\n",
    "numVar = int(input(\"Number of variables in the system: \"))"
   ]
  },
  {
   "cell_type": "code",
   "execution_count": null,
   "metadata": {},
   "outputs": [],
   "source": [
    "i = 0\n",
    "varNum = []\n",
    "varErrNum = []\n",
    "while i < numVar:\n",
    "    varNum.append(float(input(f\"{i+1}th variable \")))\n",
    "    varErrNum.append(float(input(f\"{i+1}th variable error \")))\n",
    "    i += 1"
   ]
  },
  {
   "cell_type": "code",
   "execution_count": null,
   "metadata": {},
   "outputs": [],
   "source": [
    "i = 0\n",
    "varSym = []\n",
    "while i < numVar:\n",
    "    varSym.append(smp.symbols(f\"x_{i+1}\"))\n",
    "    i += 1"
   ]
  },
  {
   "cell_type": "code",
   "execution_count": null,
   "metadata": {},
   "outputs": [],
   "source": [
    "i = 0\n",
    "varErrSym = []\n",
    "while i < numVar:\n",
    "    varErrSym.append(smp.symbols(f\"Dx_{i+1}\"))\n",
    "    i += 1"
   ]
  },
  {
   "cell_type": "code",
   "execution_count": null,
   "metadata": {},
   "outputs": [],
   "source": [
    "def lawSym():\n",
    "    return ( varSym[0] ) / (varSym[1] * varSym[2] * varSym[3] )  #write the law in sympy therms"
   ]
  },
  {
   "cell_type": "code",
   "execution_count": null,
   "metadata": {},
   "outputs": [],
   "source": [
    "lawSym()"
   ]
  },
  {
   "cell_type": "code",
   "execution_count": null,
   "metadata": {},
   "outputs": [],
   "source": [
    "lawNum = smp.lambdify(varSym, lawSym())"
   ]
  },
  {
   "cell_type": "code",
   "execution_count": null,
   "metadata": {},
   "outputs": [],
   "source": [
    "lawNum(\n",
    "    varNum[0],varNum[1], varNum[2], varNum[3]\n",
    "    )"
   ]
  },
  {
   "cell_type": "code",
   "execution_count": null,
   "metadata": {},
   "outputs": [],
   "source": [
    "def DLawSym():\n",
    "    i = 0\n",
    "    soma = smp.symbols(\"S\")\n",
    "    somaZero = soma\n",
    "    while i < numVar:\n",
    "        soma += (smp.diff(lawSym(), varSym[i]) * varErrSym[i])**2\n",
    "        i += 1\n",
    "    return (soma - somaZero)**(1/2)\n"
   ]
  },
  {
   "cell_type": "code",
   "execution_count": null,
   "metadata": {},
   "outputs": [],
   "source": [
    "DLawSym()"
   ]
  },
  {
   "cell_type": "code",
   "execution_count": null,
   "metadata": {},
   "outputs": [],
   "source": [
    "varSymVarErrSym = []\n",
    "i = 0\n",
    "while i < numVar:\n",
    "    varSymVarErrSym.append(varSym[i])\n",
    "    i += 1\n",
    "e = 0\n",
    "while e < numVar:\n",
    "    varSymVarErrSym.append(varErrSym[e])\n",
    "    e += 1"
   ]
  },
  {
   "cell_type": "code",
   "execution_count": null,
   "metadata": {},
   "outputs": [],
   "source": [
    "for e in varSymVarErrSym:\n",
    "    print(e)"
   ]
  },
  {
   "cell_type": "code",
   "execution_count": null,
   "metadata": {},
   "outputs": [],
   "source": [
    "DLawNum = smp.lambdify(varSymVarErrSym, DLawSym())"
   ]
  },
  {
   "cell_type": "code",
   "execution_count": null,
   "metadata": {},
   "outputs": [],
   "source": [
    "DLawNum(\n",
    "    varNum[0],varNum[1], varNum[2], varNum[3], \n",
    "    varErrNum[0],varErrNum[1], varErrNum[2], varErrNum[3]\n",
    "    )"
   ]
  },
  {
   "cell_type": "code",
   "execution_count": null,
   "metadata": {},
   "outputs": [],
   "source": []
  },
  {
   "cell_type": "code",
   "execution_count": null,
   "metadata": {},
   "outputs": [],
   "source": []
  }
 ],
 "metadata": {
  "kernelspec": {
   "display_name": "Python 3",
   "language": "python",
   "name": "python3"
  },
  "language_info": {
   "codemirror_mode": {
    "name": "ipython",
    "version": 3
   },
   "file_extension": ".py",
   "mimetype": "text/x-python",
   "name": "python",
   "nbconvert_exporter": "python",
   "pygments_lexer": "ipython3",
   "version": "3.8.8"
  }
 },
 "nbformat": 4,
 "nbformat_minor": 4
}
