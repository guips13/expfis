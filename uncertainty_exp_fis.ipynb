{
 "cells": [
  {
   "cell_type": "code",
   "execution_count": 1,
   "metadata": {},
   "outputs": [],
   "source": [
    "import sympy as smp\n",
    "import numpy as np\n",
    "import matplotlib.pyplot as plt"
   ]
  },
  {
   "cell_type": "code",
   "execution_count": 2,
   "metadata": {},
   "outputs": [
    {
     "name": "stdout",
     "output_type": "stream",
     "text": [
      "Number of variables in the system: 4\n"
     ]
    }
   ],
   "source": [
    "numVar = 0\n",
    "numVar = int(input(\"Number of variables in the system: \"))"
   ]
  },
  {
   "cell_type": "code",
   "execution_count": 3,
   "metadata": {},
   "outputs": [
    {
     "name": "stdout",
     "output_type": "stream",
     "text": [
      "1th variable 100.5e-3\n",
      "1th variable error 0\n",
      "2th variable 3e-7\n",
      "2th variable error 0\n",
      "3th variable 1.6e-19\n",
      "3th variable error 0\n",
      "4th variable 22.7\n",
      "4th variable error 0.2\n"
     ]
    }
   ],
   "source": [
    "i = 0\n",
    "varNum = []\n",
    "varErrNum = []\n",
    "while i < numVar:\n",
    "    varNum.append(float(input(f\"{i+1}th variable \")))\n",
    "    varErrNum.append(float(input(f\"{i+1}th variable error \")))\n",
    "    i += 1"
   ]
  },
  {
   "cell_type": "code",
   "execution_count": 4,
   "metadata": {},
   "outputs": [],
   "source": [
    "i = 0\n",
    "varSym = []\n",
    "while i < numVar:\n",
    "    varSym.append(smp.symbols(f\"x_{i+1}\"))\n",
    "    i += 1"
   ]
  },
  {
   "cell_type": "code",
   "execution_count": 5,
   "metadata": {},
   "outputs": [],
   "source": [
    "i = 0\n",
    "varErrSym = []\n",
    "while i < numVar:\n",
    "    varErrSym.append(smp.symbols(f\"Dx_{i+1}\"))\n",
    "    i += 1"
   ]
  },
  {
   "cell_type": "code",
   "execution_count": 6,
   "metadata": {},
   "outputs": [],
   "source": [
    "def lawSym():\n",
    "    return ( varSym[0] ) / (varSym[1] * varSym[2] * varSym[3] )  #write the law in sympy therms"
   ]
  },
  {
   "cell_type": "code",
   "execution_count": 7,
   "metadata": {},
   "outputs": [
    {
     "data": {
      "text/latex": [
       "$\\displaystyle \\frac{x_{1}}{x_{2} x_{3} x_{4}}$"
      ],
      "text/plain": [
       "x_1/(x_2*x_3*x_4)"
      ]
     },
     "execution_count": 7,
     "metadata": {},
     "output_type": "execute_result"
    }
   ],
   "source": [
    "lawSym()"
   ]
  },
  {
   "cell_type": "code",
   "execution_count": 8,
   "metadata": {},
   "outputs": [],
   "source": [
    "lawNum = smp.lambdify(varSym, lawSym())"
   ]
  },
  {
   "cell_type": "code",
   "execution_count": 9,
   "metadata": {},
   "outputs": [
    {
     "data": {
      "text/plain": [
       "9.223568281938327e+22"
      ]
     },
     "execution_count": 9,
     "metadata": {},
     "output_type": "execute_result"
    }
   ],
   "source": [
    "lawNum(\n",
    "    varNum[0],varNum[1], varNum[2], varNum[3]\n",
    "    )"
   ]
  },
  {
   "cell_type": "code",
   "execution_count": 10,
   "metadata": {},
   "outputs": [],
   "source": [
    "def DLawSym():\n",
    "    i = 0\n",
    "    soma = smp.symbols(\"S\")\n",
    "    somaZero = soma\n",
    "    while i < numVar:\n",
    "        soma += (smp.diff(lawSym(), varSym[i]) * varErrSym[i])**2\n",
    "        i += 1\n",
    "    return (soma - somaZero)**(1/2)\n"
   ]
  },
  {
   "cell_type": "code",
   "execution_count": 11,
   "metadata": {},
   "outputs": [
    {
     "data": {
      "text/latex": [
       "$\\displaystyle \\left(\\frac{Dx_{1}^{2}}{x_{2}^{2} x_{3}^{2} x_{4}^{2}} + \\frac{Dx_{2}^{2} x_{1}^{2}}{x_{2}^{4} x_{3}^{2} x_{4}^{2}} + \\frac{Dx_{3}^{2} x_{1}^{2}}{x_{2}^{2} x_{3}^{4} x_{4}^{2}} + \\frac{Dx_{4}^{2} x_{1}^{2}}{x_{2}^{2} x_{3}^{2} x_{4}^{4}}\\right)^{0.5}$"
      ],
      "text/plain": [
       "(Dx_1**2/(x_2**2*x_3**2*x_4**2) + Dx_2**2*x_1**2/(x_2**4*x_3**2*x_4**2) + Dx_3**2*x_1**2/(x_2**2*x_3**4*x_4**2) + Dx_4**2*x_1**2/(x_2**2*x_3**2*x_4**4))**0.5"
      ]
     },
     "execution_count": 11,
     "metadata": {},
     "output_type": "execute_result"
    }
   ],
   "source": [
    "DLawSym()"
   ]
  },
  {
   "cell_type": "code",
   "execution_count": 12,
   "metadata": {},
   "outputs": [],
   "source": [
    "varSymVarErrSym = []\n",
    "i = 0\n",
    "while i < numVar:\n",
    "    varSymVarErrSym.append(varSym[i])\n",
    "    i += 1\n",
    "e = 0\n",
    "while e < numVar:\n",
    "    varSymVarErrSym.append(varErrSym[e])\n",
    "    e += 1"
   ]
  },
  {
   "cell_type": "code",
   "execution_count": 13,
   "metadata": {},
   "outputs": [
    {
     "name": "stdout",
     "output_type": "stream",
     "text": [
      "x_1\n",
      "x_2\n",
      "x_3\n",
      "x_4\n",
      "Dx_1\n",
      "Dx_2\n",
      "Dx_3\n",
      "Dx_4\n"
     ]
    }
   ],
   "source": [
    "for e in varSymVarErrSym:\n",
    "    print(e)"
   ]
  },
  {
   "cell_type": "code",
   "execution_count": 14,
   "metadata": {},
   "outputs": [],
   "source": [
    "DLawNum = smp.lambdify(varSymVarErrSym, DLawSym())"
   ]
  },
  {
   "cell_type": "code",
   "execution_count": 16,
   "metadata": {},
   "outputs": [
    {
     "data": {
      "text/plain": [
       "8.126491878359761e+20"
      ]
     },
     "execution_count": 16,
     "metadata": {},
     "output_type": "execute_result"
    }
   ],
   "source": [
    "DLawNum(\n",
    "    varNum[0],varNum[1], varNum[2], varNum[3], \n",
    "    varErrNum[0],varErrNum[1], varErrNum[2], varErrNum[3]\n",
    "    )"
   ]
  },
  {
   "cell_type": "code",
   "execution_count": null,
   "metadata": {},
   "outputs": [],
   "source": []
  },
  {
   "cell_type": "code",
   "execution_count": null,
   "metadata": {},
   "outputs": [],
   "source": []
  }
 ],
 "metadata": {
  "kernelspec": {
   "display_name": "Python 3",
   "language": "python",
   "name": "python3"
  },
  "language_info": {
   "codemirror_mode": {
    "name": "ipython",
    "version": 3
   },
   "file_extension": ".py",
   "mimetype": "text/x-python",
   "name": "python",
   "nbconvert_exporter": "python",
   "pygments_lexer": "ipython3",
   "version": "3.8.8"
  }
 },
 "nbformat": 4,
 "nbformat_minor": 4
}
